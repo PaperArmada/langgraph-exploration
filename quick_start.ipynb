{
 "cells": [
  {
   "cell_type": "code",
   "execution_count": 2,
   "metadata": {},
   "outputs": [
    {
     "data": {
      "text/plain": [
       "True"
      ]
     },
     "execution_count": 2,
     "metadata": {},
     "output_type": "execute_result"
    }
   ],
   "source": [
    "from dotenv import load_dotenv\n",
    "\n",
    "load_dotenv(dotenv_path='/home/longview/Dev/.env')"
   ]
  },
  {
   "cell_type": "code",
   "execution_count": 3,
   "metadata": {},
   "outputs": [],
   "source": [
    "from typing import Annotated\n",
    "\n",
    "from typing_extensions import TypedDict\n",
    "\n",
    "from langgraph.graph import StateGraph, START, END\n",
    "from langgraph.graph.message import add_messages\n",
    "\n",
    "\n",
    "class State(TypedDict):\n",
    "    # Messages have the type \"list\". The 'add_messages' function\n",
    "    # in the annotation defines how this state key should be updated\n",
    "    # (in this case, it appends messages to the list, rather than overwrites them)\n",
    "    messages: Annotated[list, add_messages]\n",
    "\n",
    "graph_builder = StateGraph(State)"
   ]
  },
  {
   "cell_type": "markdown",
   "metadata": {},
   "source": [
    "\"Nodes represent units of work. They are typically regular python functions.\""
   ]
  },
  {
   "cell_type": "code",
   "execution_count": 4,
   "metadata": {},
   "outputs": [],
   "source": [
    "from langchain_anthropic import ChatAnthropic\n",
    "\n",
    "llm = ChatAnthropic(model=\"claude-3-haiku-20240307\")\n",
    "\n",
    "def chatbot(state: State):\n",
    "    return {\"messages\": [llm.invoke(state[\"messages\"])]}\n",
    "\n",
    "\n",
    "# The first argument is the unique node name\n",
    "# The second argument is the function or object that will be called\n",
    "# whenever the node is used.\n",
    "graph_builder.add_node(\"chatbot\", chatbot)\n"
   ]
  },
  {
   "cell_type": "code",
   "execution_count": 5,
   "metadata": {},
   "outputs": [],
   "source": [
    "graph_builder.add_edge(START, \"chatbot\")"
   ]
  },
  {
   "cell_type": "code",
   "execution_count": 6,
   "metadata": {},
   "outputs": [],
   "source": [
    "graph_builder.add_edge(\"chatbot\", END)"
   ]
  },
  {
   "cell_type": "code",
   "execution_count": 7,
   "metadata": {},
   "outputs": [],
   "source": [
    "graph = graph_builder.compile()"
   ]
  },
  {
   "cell_type": "code",
   "execution_count": 8,
   "metadata": {},
   "outputs": [
    {
     "data": {
      "image/jpeg": "[encoded data removed]",
      "text/plain": [
       "<IPython.core.display.Image object>"
      ]
     },
     "metadata": {},
     "output_type": "display_data"
    }
   ],
   "source": [
    "from IPython.display import Image, display\n",
    "\n",
    "try:\n",
    "    display(Image(graph.get_graph().draw_mermaid_png()))\n",
    "except Exception as e:\n",
    "    pass"
   ]
  },
  {
   "cell_type": "code",
   "execution_count": 10,
   "metadata": {},
   "outputs": [
    {
     "name": "stdout",
     "output_type": "stream",
     "text": [
      "Assistant: Certainly! LangChain is a framework for building applications with large language models (LLMs) like GPT-3, Dall-E, and Anthropic's Claude. It provides a set of abstractions and tools to help developers build applications that interact with these models in a modular and scalable way.\n",
      "\n",
      "Here are some key things to know about LangChain:\n",
      "\n",
      "1. **Agents**: LangChain provides a way to create \"agents\" that can interact with LLMs to perform specific tasks. These agents can take in prompts, query databases, call APIs, and combine outputs to generate responses.\n",
      "\n",
      "2. **Memory**: LangChain includes tools for managing the state and memory of an agent, allowing it to maintain context over multiple interactions.\n",
      "\n",
      "3. **Chains**: LangChain allows you to build \"chains\" of agents that can perform multi-step tasks, passing information between them.\n",
      "\n",
      "4. **Utilities**: LangChain includes a set of utility functions and tools for working with LLMs, such as tools for parsing and formatting text, interacting with databases, and calling APIs.\n",
      "\n",
      "To get started with LangChain, you can follow these steps:\n",
      "\n",
      "1. **Install LangChain**: You can install LangChain using pip: `pip install langchain`.\n",
      "\n",
      "2. **Choose an LLM**: LangChain supports a variety of LLMs, including OpenAI's GPT-3, Anthropic's Claude, and Hugging Face's Transformers. You'll need to set up your API credentials for the LLM you want to use.\n",
      "\n",
      "3. **Create an agent**: You can create an agent using one of the pre-built agent classes in LangChain, or you can create your own custom agent. Here's an example of creating a simple agent using the `ConversationalAgent` class:\n",
      "\n",
      "```python\n",
      "from langchain.agents import ConversationalAgent\n",
      "from langchain.llms import OpenAI\n",
      "\n",
      "llm = OpenAI(temperature=0.7)\n",
      "agent = ConversationalAgent(llm=llm)\n",
      "result = agent.run(\"What is the capital of France?\")\n",
      "print(result)\n",
      "```\n",
      "\n",
      "4. **Build a chain**: You can create more complex applications by chaining together multiple agents. Here's an example of a chain that uses a language model to answer a question, then uses a search engine to find supporting information:\n",
      "\n",
      "```python\n",
      "from langchain.chains import SequentialChain\n",
      "from langchain.agents import ConversationalAgent\n",
      "from langchain.llms import OpenAI\n",
      "from langchain.utilities import GoogleSearchAPIWrapper\n",
      "\n",
      "llm = OpenAI(temperature=0.7)\n",
      "agent = ConversationalAgent(llm=llm)\n",
      "search = GoogleSearchAPIWrapper()\n",
      "\n",
      "chain = SequentialChain(\n",
      "    [agent, search],\n",
      "    input_variables=[\"question\"],\n",
      "    output_variables=[\"result\", \"sources\"]\n",
      ")\n",
      "\n",
      "result = chain.run(\"What is the capital of France?\")\n",
      "print(result)\n",
      "```\n",
      "\n",
      "These are just a few examples of what you can do with LangChain. The framework is highly extensible, and you can create custom agents, chains, and utilities to fit your specific use case.\n",
      "Goodbye!\n"
     ]
    }
   ],
   "source": [
    "while True:\n",
    "    user_input = input(\"User: \")\n",
    "    if user_input.lower() in [\"quit\", \"exit\", \"q\"]:\n",
    "        print(\"Goodbye!\")\n",
    "        break\n",
    "    for event in graph.stream({\"messages\": (\"user\", user_input)}):\n",
    "        for value in event.values():\n",
    "            print(\"Assistant:\", value[\"messages\"][-1].content)"
   ]
  },
  {
   "cell_type": "markdown",
   "metadata": {},
   "source": [
    "## Part 2: Enhancing the Chatbot with Tools ##"
   ]
  },
  {
   "cell_type": "code",
   "execution_count": 11,
   "metadata": {},
   "outputs": [
    {
     "data": {
      "text/plain": [
       "[{'url': 'https://www.nature.com/articles/s41598-024-64761-7',\n",
       "  'content': 'The weight between the i-th node in the input layer and the j-th node in the hidden layer is denoted as \\\\({W}_{ij}\\\\), and the weight between the j-th node in the hidden layer and the output layer is denoted as \\\\({V}_{j}\\\\)\\u200b. Here, \\\\({n}_{I}\\\\)\\u200b represents the number of nodes in the input layer, and \\\\({n}_{H}\\\\)\\u200b represents the number of nodes in the hidden layer. Advertisement Modeling and optimization of dyeing process of polyamide 6 and woolen fabrics with plum-tree leaves using artificial intelligence Scientific Reports volume\\xa014, Article\\xa0number:\\xa015067 (2024) Cite this article Metrics details Subjects Abstract The dyeing process of textile materials is inherently intricate, influenced by a myriad of factors, including dye concentration, dyeing time, pH level, temperature, type of dye, fiber composition, mechanical agitation, salt concentration, mordants, fixatives, water quality, dyeing method, and pre-treatment processes. In which In the aforementioned expression, the symbols represent the following: \\\\(e\\\\) designates the actual value, \\\\(p\\\\) denotes the predicted value, \\\\(\\\\overline{e }\\\\) signifies the average of the actual values, \\\\(n\\\\) stands for the number of data points, and \\\\(N\\\\) represents the total number of data points.  Advertisement Explore content About the journal Publish with us Search Quick links Scientific Reports (Sci Rep) ISSN 2045-2322 (online) nature.com sitemap About Nature Portfolio Discover content Publishing policies Author & Researcher services Libraries & institutions Advertising & partnerships Professional development Regional websites  To solve the mentioned problems, new natural dyes, new bio-based mordants and changing the effective parameters in the dyeing process such as dyeing method, concentration of dye, type and concentration of mordant, dyeing time as well as temperature and pH of the dyeing process, can be used3,4. '},\n",
       " {'url': 'https://www.nature.com/articles/s42003-024-06480-3',\n",
       "  'content': 'Where gu and gv are the gene index of the RNA nodes u and v. \\\\({w}_{{g}_{u},{g}_{v}}\\\\) is the corresponding weight from the co-expression matrix W. ku is the degree of node u defined as \\\\({{k}_{u}=\\\\varSigma }_{v}{w}_{{g}_{u},{g}_{v}}\\\\), m is the sum of the weights in the network \\\\(m={\\\\frac{1}{2}\\\\varSigma }_{u,v}{w}_{{g}_{u},{g}_{v}}\\\\) and the function δ is 1 if the nodes u and v belong to the same community C (i.e., Cu\\u2009=\\u2009Cv) and 0 otherwise.  Author information Authors and Affiliations Centre for Computational Biology (CBIO), Mines Paris, PSL University, 75006, Paris, France Thomas Defard,\\xa0Florian Massip\\xa0&\\xa0Thomas Walter Institut Curie, PSL University, 75005, Paris, France Thomas Defard,\\xa0Florian Massip\\xa0&\\xa0Thomas Walter INSERM, U900, 75005, Paris, France Thomas Defard,\\xa0Florian Massip\\xa0&\\xa0Thomas Walter Institut Pasteur, Université Paris Cité, Imaging and Modeling Unit, F-75015, Paris, France Thomas Defard,\\xa0Christian Weber\\xa0&\\xa0Florian Mueller Institut Pasteur, Université Paris Cité, Photonic Bio-Imaging, Centre de Ressources et Recherches Technologiques (UTechS-PBI, C2RT), F-75015, Paris, France Thomas Defard,\\xa0Christian Weber\\xa0&\\xa0Florian Mueller Institut Curie, Inserm U1021-CNRS UMR 3347, University Paris-Saclay, PSL Research University, Centre Universitaire, Orsay, Cedex, France Hugo Laporte,\\xa0Mallick Ayan,\\xa0Juliette Soulier,\\xa0Sandra Curras-Alonso,\\xa0José-Arturo Londoño-Vallejo\\xa0&\\xa0Charles Fouillade Institute of Cell Biology (Cancer Research), University Hospital Essen, Essen, Germany Hugo Laporte  Summing the PE of each RNA node in the community helps to capture the local transcriptomic information missing in the global co-expression matrix W. Hence, each community is associated with a community expression vector VC composed of co-expressed genes at the global scale but also containing the local transcriptomic information of the cell it belongs to.  Benchmarking on simulations To assess the RNA profiling quality we compute the mean Jaccard index as follows: For each cell c, \\\\({J}_{c}=\\\\frac{|{X}_{c}\\\\cap {Y}_{c}|}{|{X}_{c}\\\\cup {Y}_{c}|}\\\\) where Xc is the ground truth set of RNAs associated with the cell c (ground truth) and Yc is the set of RNAs predicted as associated with the cell c. KNN graph weighted by co-expression Our algorithm operates on a weighted KNN graph, where the RNA molecules (across all genes) are the nodes (K\\u2009=\\u200910 and the max edge distance Rknn between molecules is set to D/4) and the weights are the estimated co-expression values \\\\({w}_{i,j}\\\\) defined in (3): edges between RNA molecules from strongly co-expressed genes obtain a large weight, while RNA molecules from genes that are not co-expressed are assigned a small weight.'}]"
      ]
     },
     "execution_count": 11,
     "metadata": {},
     "output_type": "execute_result"
    }
   ],
   "source": [
    "from langchain_community.tools.tavily_search import TavilySearchResults\n",
    "\n",
    "tool = TavilySearchResults(max_results=2)\n",
    "tools = [tool]\n",
    "tool.invoke(\"What's a 'node' in LangGraph\")"
   ]
  },
  {
   "cell_type": "code",
   "execution_count": 14,
   "metadata": {},
   "outputs": [],
   "source": [
    "from langchain_community.tools import DuckDuckGoSearchResults\n",
    "\n",
    "tool = DuckDuckGoSearchResults(num_results=2)\n",
    "tools = [tool]\n",
    "tool_response = tool.invoke(\"What's a 'node' in LangGraph\")"
   ]
  },
  {
   "cell_type": "code",
   "execution_count": 30,
   "metadata": {},
   "outputs": [
    {
     "data": {
      "text/plain": [
       "\"[snippet: Nodes: Nodes are the building blocks of your LangGraph. Each node represents a function or a computation step. You define nodes to perform specific tasks, such as processing input, making ..., title: Introduction to LangGraph: A Beginner's Guide - Medium, link: https://medium.com/@cplog/introduction-to-langgraph-a-beginners-guide-14f9be027141], [snippet: Nodes: Nodes in LangGraph represent individual units of computation or functionality within a graph. Nodes can be functions or runnables that perform specific tasks or operations. They are ..., title: LangGraph: Multi-Agent Collaboration Explained - Medium, link: https://medium.com/@kbdhunga/langgraph-multi-agent-collaboration-explained-c0500b0f2e61]\""
      ]
     },
     "execution_count": 30,
     "metadata": {},
     "output_type": "execute_result"
    }
   ],
   "source": [
    "tool_response"
   ]
  },
  {
   "cell_type": "code",
   "execution_count": null,
   "metadata": {},
   "outputs": [
    {
     "data": {
      "text/plain": [
       "'\"[snippet: Nodes: Nodes are the building blocks of your LangGraph. Each node represents a function or a computation step. You define nodes to perform specific tasks, such as processing input, making ..., title: Introduction to LangGraph: A Beginner\\'s Guide - Medium, link: https://medium.com/@cplog/introduction-to-langgraph-a-beginners-guide-14f9be027141], [snippet: Nodes: Nodes in LangGraph represent individual units of computation or functionality within a graph. Nodes can be functions or runnables that perform specific tasks or operations. They are ..., title: LangGraph: Multi-Agent Collaboration Explained - Medium, link: https://medium.com/@kbdhunga/langgraph-multi-agent-collaboration-explained-c0500b0f2e61]\"'"
      ]
     },
     "metadata": {},
     "output_type": "display_data"
    }
   ],
   "source": [
    "import json\n",
    "\n",
    "json.dumps(tool_response)"
   ]
  },
  {
   "cell_type": "code",
   "execution_count": 36,
   "metadata": {},
   "outputs": [],
   "source": [
    "from typing import Annotated\n",
    "\n",
    "from langchain_anthropic import ChatAnthropic\n",
    "from typing_extensions import TypedDict\n",
    "\n",
    "from langgraph.graph import StateGraph, START\n",
    "from langgraph.graph.message import add_messages\n",
    "\n",
    "\n",
    "class State(TypedDict):\n",
    "    messages: Annotated[list, add_messages]\n",
    "\n",
    "\n",
    "graph_builder = StateGraph(State)\n",
    "\n",
    "\n",
    "llm =  ChatAnthropic(model=\"claude-3-haiku-20240307\")\n",
    "# Modification: tell the LLM which tools it can call\n",
    "llm_with_tools = llm.bind_tools(tools)\n",
    "\n",
    "\n",
    "def chatbot(state: State):\n",
    "    return {\"messages\": [llm_with_tools.invoke(state[\"messages\"])]}\n",
    "\n",
    "graph_builder.add_node(\"chatbot\", chatbot)"
   ]
  },
  {
   "cell_type": "code",
   "execution_count": 38,
   "metadata": {},
   "outputs": [],
   "source": [
    "from langchain_core.messages import ToolMessage\n",
    "\n",
    "\n",
    "class BasicToolNode:\n",
    "    \"\"\"A node that runs the tools requested in the last AIMessage.\"\"\"\n",
    "\n",
    "    def __init__(self, tools: list) -> None:\n",
    "        self.tools_by_name = {tool.name: tool for tool in tools}\n",
    "\n",
    "    def __call__(self, inputs: dict):\n",
    "        if messages := inputs.get(\"messages\", []):\n",
    "            message = messages[-1]\n",
    "        else:\n",
    "            raise ValueError(\"No message found in input\")\n",
    "        outputs = []\n",
    "        for tool_call in message.tool_calls:\n",
    "            tool_result = self.tools_by_name[tool_call[\"name\"]].invoke(\n",
    "                tool_call[\"args\"]\n",
    "            )\n",
    "            outputs.append(\n",
    "                ToolMessage(\n",
    "                    content=json.dumps(tool_result),\n",
    "                    name=tool_call[\"name\"],\n",
    "                    tool_call_id=tool_call[\"id\"],\n",
    "                )\n",
    "            )\n",
    "        return {\"messages\": outputs}\n",
    "    \n",
    "tool_node = BasicToolNode(tools=[tool])\n",
    "graph_builder.add_node(\"tools\", tool_node)"
   ]
  },
  {
   "cell_type": "code",
   "execution_count": 39,
   "metadata": {},
   "outputs": [],
   "source": [
    "from typing import Literal\n",
    "\n",
    "\n",
    "def route_tools(\n",
    "        state: State,\n",
    ") -> Literal[\"tools\", \"__end__\"]:\n",
    "    \"\"\"\n",
    "    Use in the conditional_edge to route to the ToolNode if the last\n",
    "    message has tool calls. Otherwise, route to the end.\n",
    "    \"\"\"\n",
    "    if isinstance(state, list):\n",
    "        ai_message = state[-1]\n",
    "    elif messages := state.get(\"messages\", []):\n",
    "        ai_message = messages[-1]\n",
    "    else:\n",
    "        raise ValueError(f\"No messages found in input state to tool_edge: {state}\")\n",
    "    if hasattr(ai_message, \"tool_calls\") and len(ai_message.tool_calls) > 0:\n",
    "        return \"tools\"\n",
    "    return \"__end__\"\n",
    "\n",
    "\n",
    "# The 'tools_condition' function returns \"tools\" if the chatbot\n",
    "# asks to use a tool, and \"__end__\" if it is fine directly responding.\n",
    "# This conditional routing defines the main agent loop.\n",
    "graph_builder.add_conditional_edges(\n",
    "    \"chatbot\",\n",
    "    route_tools,\n",
    "    # The following dictionary lets you tell the graph to interpret\n",
    "    # the condition's outputs as a specific node.\n",
    "    # It defaults to the identity function, but if you\n",
    "    # want to use a node named something else apart from \"tools\",\n",
    "    # you can update the value of the dictionary to something else\n",
    "    # e.g., \"tools\": \"my_tools\"\n",
    "    {\"tools\": \"tools\", \"__end__\": \"__end__\"},\n",
    ")\n",
    "# Any time a tool is called, we return to the chatbot to decide the next step\n",
    "graph_builder.add_edge(\"tools\", \"chatbot\")\n",
    "graph_builder.add_edge(START, \"chatbot\")\n",
    "graph = graph_builder.compile()"
   ]
  },
  {
   "cell_type": "code",
   "execution_count": 40,
   "metadata": {},
   "outputs": [
    {
     "data": {
      "image/jpeg": "[encoded data removed]",
      "text/plain": [
       "<IPython.core.display.Image object>"
      ]
     },
     "metadata": {},
     "output_type": "display_data"
    }
   ],
   "source": [
    "from IPython.display import Image, display\n",
    "\n",
    "try:\n",
    "    display(Image(graph.get_graph().draw_mermaid_png()))\n",
    "except Exception:\n",
    "    pass"
   ]
  },
  {
   "cell_type": "code",
   "execution_count": 41,
   "metadata": {},
   "outputs": [
    {
     "name": "stdout",
     "output_type": "stream",
     "text": [
      "Assistant: [{'text': \"Okay, let's look up some information about Langgraph on DuckDuckGo:\", 'type': 'text'}, {'id': 'toolu_011zdNZAwbxCT7A8qqbM5LY2', 'input': {'query': 'langgraph'}, 'name': 'duckduckgo_results_json', 'type': 'tool_use'}]\n",
      "Assistant: \"[snippet: LangGraph is a package for creating LLM workflows with cycles and multi-agent designs. Learn what multi-agent means, why it is useful, and see examples of LangGraph applications and comparisons with other frameworks., title: LangGraph: Multi-Agent Workflows, link: https://blog.langchain.dev/langgraph-multi-agent-workflows/], [snippet: LangGraph is giving us the control and ergonomics we need to build and ship powerful coding agents.\\\" - Michele Catasta (VP of AI @ Replit) For the most complex or sensitive tasks, human collaboration is still needed to supplement agentic automation. LangGraph makes human-agent collaboration possible through its built in persistence layer., title: Announcing LangGraph v0.1 & LangGraph Cloud: Running agents at scale ..., link: https://blog.langchain.dev/langgraph-cloud/]\"\n",
      "Assistant: Based on the search results, it seems that Langgraph is a package or framework for creating workflows and applications involving large language models (LLMs) and multiple agents. Some key things I gathered:\n",
      "\n",
      "- Langgraph allows for creating \"multi-agent designs\" and \"LLM workflows with cycles\", which seems to enable more complex and dynamic interactions between different AI agents.\n",
      "\n",
      "- It provides tools and capabilities to enable \"human-agent collaboration\", allowing humans to work alongside the AI agents in certain tasks.\n",
      "\n",
      "- Langgraph appears to be built on top of the LangChain framework, which is a popular toolkit for building applications with LLMs.\n",
      "\n",
      "- The goals of Langgraph seem to be providing more control, flexibility and scalability when building sophisticated applications powered by large language models.\n",
      "\n",
      "So in summary, Langgraph is a framework that extends LangChain to enable more advanced multi-agent and cyclical workflows when building applications with large language models. It seems focused on enabling powerful AI-human collaboration and complex AI-powered systems.\n",
      "Goodbye!\n"
     ]
    }
   ],
   "source": [
    "from langchain_core.messages import BaseMessage\n",
    "\n",
    "while True:\n",
    "    user_input = input(\"User: \")\n",
    "    if user_input.lower() in [\"quit\", \"exit\", \"q\"]:\n",
    "        print(\"Goodbye!\")\n",
    "        break\n",
    "    for event in graph.stream({\"messages\": [(\"user\", user_input)]}):\n",
    "        for value in event.values():\n",
    "            if isinstance(value[\"messages\"][-1], BaseMessage):\n",
    "                print(\"Assistant:\", value[\"messages\"][-1].content)"
   ]
  },
  {
   "cell_type": "code",
   "execution_count": null,
   "metadata": {},
   "outputs": [],
   "source": []
  }
 ],
 "metadata": {
  "kernelspec": {
   "display_name": "langgraph",
   "language": "python",
   "name": "python3"
  },
  "language_info": {
   "codemirror_mode": {
    "name": "ipython",
    "version": 3
   },
   "file_extension": ".py",
   "mimetype": "text/x-python",
   "name": "python",
   "nbconvert_exporter": "python",
   "pygments_lexer": "ipython3",
   "version": "3.12.4"
  }
 },
 "nbformat": 4,
 "nbformat_minor": 2
}
